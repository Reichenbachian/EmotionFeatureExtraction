{
 "cells": [
  {
   "cell_type": "code",
   "execution_count": null,
   "metadata": {},
   "outputs": [],
   "source": [
    "import pandas as pd\n",
    "import glob\n",
    "import seaborn as sn\n",
    "from tqdm import tqdm"
   ]
  },
  {
   "cell_type": "code",
   "execution_count": 3,
   "metadata": {},
   "outputs": [
    {
     "name": "stdout",
     "output_type": "stream",
     "text": [
      "../local_cache/AVEC/labels/dev/dev_1.csv\n",
      "../local_cache/AVEC/labels/dev/dev_2.csv\n",
      "../local_cache/AVEC/labels/dev/dev_3.csv\n",
      "../local_cache/AVEC/labels/dev/dev_4.csv\n",
      "../local_cache/AVEC/labels/dev/dev_5.csv\n",
      "../local_cache/AVEC/labels/dev/dev_6.csv\n",
      "../local_cache/AVEC/labels/dev/dev_7.csv\n",
      "../local_cache/AVEC/labels/dev/dev_8.csv\n",
      "../local_cache/AVEC/labels/dev/dev_9.csv\n",
      "../local_cache/AVEC/labels/train/train_1.csv\n",
      "../local_cache/AVEC/labels/train/train_2.csv\n",
      "../local_cache/AVEC/labels/train/train_3.csv\n",
      "../local_cache/AVEC/labels/train/train_4.csv\n",
      "../local_cache/AVEC/labels/train/train_5.csv\n",
      "../local_cache/AVEC/labels/train/train_6.csv\n",
      "../local_cache/AVEC/labels/train/train_7.csv\n",
      "../local_cache/AVEC/labels/train/train_8.csv\n",
      "../local_cache/AVEC/labels/train/train_9.csv\n"
     ]
    }
   ],
   "source": [
    "arousal_label = []\n",
    "valence_label\n",
    "for f in tqdm(glob.glob('../local_cache/AVEC/labels/*/*.csv')):\n",
    "    df = pd.read_csv(f)"
   ]
  },
  {
   "cell_type": "code",
   "execution_count": null,
   "metadata": {
    "collapsed": true
   },
   "outputs": [],
   "source": []
  }
 ],
 "metadata": {
  "kernelspec": {
   "display_name": "Python 3",
   "language": "python",
   "name": "python3"
  },
  "language_info": {
   "codemirror_mode": {
    "name": "ipython",
    "version": 3
   },
   "file_extension": ".py",
   "mimetype": "text/x-python",
   "name": "python",
   "nbconvert_exporter": "python",
   "pygments_lexer": "ipython3",
   "version": "3.6.1"
  }
 },
 "nbformat": 4,
 "nbformat_minor": 2
}
