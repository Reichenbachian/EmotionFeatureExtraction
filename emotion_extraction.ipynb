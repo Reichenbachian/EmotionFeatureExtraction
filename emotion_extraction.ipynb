{
 "cells": [
  {
   "cell_type": "code",
   "execution_count": 20,
   "metadata": {
    "scrolled": true
   },
   "outputs": [],
   "source": [
    "from adlframework.retrievals.BlobLocalCache import BlobLocalCache\n",
    "from adlframework.datasource import DataSource\n",
    "from adlframework.dataentity.arff_de import ARFFDataEntity\n",
    "# from adlframework.dataentity.audio_de import AudioRecordingDataEntity\n",
    "from adlframework.experiment import SimpleExperiment\n",
    "from keras.losses import KLD, MAE\n",
    "from keras.optimizers import Adadelta, Adam, SGD\n",
    "from nets import dense_network, dense_network\n",
    "import pdb\n",
    "import numpy as np\n",
    "from keras.callbacks import ModelCheckpoint"
   ]
  },
  {
   "cell_type": "markdown",
   "metadata": {},
   "source": [
    "### Custom Controllers/Filters"
   ]
  },
  {
   "cell_type": "code",
   "execution_count": 13,
   "metadata": {},
   "outputs": [],
   "source": [
    "def remove_wavs(entity):\n",
    "    '''\n",
    "    Filter out wav and extraneous files\n",
    "    '''\n",
    "    return entity.unique_id[-4:] == 'arff'\n",
    "\n",
    "def split_to_features(sample):\n",
    "    f, label = sample\n",
    "    data = np.array([x for x in f[1]][1:])\n",
    "    return data, label"
   ]
  },
  {
   "cell_type": "markdown",
   "metadata": {},
   "source": [
    "### Metadata"
   ]
  },
  {
   "cell_type": "code",
   "execution_count": 14,
   "metadata": {},
   "outputs": [
    {
     "name": "stdout",
     "output_type": "stream",
     "text": [
      "Retrieval not named, so won't be cached.\n",
      "Retrieval not named, so won't be cached.\n",
      "Retrieval not named, so won't be cached.\n"
     ]
    }
   ],
   "source": [
    "cache_path = 'local_cache/Segmented_AVEC/'\n",
    "train_retrieval = BlobLocalCache(cache_path+'wav/train', cache_path+'labels/train')\n",
    "val_retrieval = BlobLocalCache(cache_path+'wav/val', cache_path+'labels/val')\n",
    "test_retrieval = BlobLocalCache(cache_path+'wav/test', cache_path+'labels/test')\n",
    "max_mem = .3\n",
    "\n",
    "prefilters = [remove_wavs]\n",
    "controllers = [split_to_features]"
   ]
  },
  {
   "cell_type": "markdown",
   "metadata": {},
   "source": [
    "### Data Sources"
   ]
  },
  {
   "cell_type": "code",
   "execution_count": 15,
   "metadata": {
    "scrolled": true
   },
   "outputs": [
    {
     "name": "stderr",
     "output_type": "stream",
     "text": [
      "100%|██████████| 209972/209972 [00:00<00:00, 949124.95it/s]\n",
      "100%|██████████| 59992/59992 [00:00<00:00, 956289.71it/s]\n",
      "100%|██████████| 29996/29996 [00:00<00:00, 900048.24it/s]\n"
     ]
    }
   ],
   "source": [
    "## Creating and splitting datasets\n",
    "universal_args = {\n",
    "    'ignore_cache': True,\n",
    "    'batch_size': 30,\n",
    "    'verbosity': 3,\n",
    "    'controllers': controllers,\n",
    "    'prefilters': prefilters,\n",
    "    'max_mem_percent': max_mem,\n",
    "    'workers': 3,\n",
    "    \n",
    "}\n",
    "train_ds = DataSource(train_retrieval, ARFFDataEntity, **universal_args)\n",
    "\n",
    "val_ds = DataSource(val_retrieval, ARFFDataEntity, **universal_args)\n",
    "\n",
    "test_ds = DataSource(test_retrieval, ARFFDataEntity, **universal_args)"
   ]
  },
  {
   "cell_type": "code",
   "execution_count": 16,
   "metadata": {},
   "outputs": [],
   "source": [
    "### Callbacks\n",
    "callbacks = [ModelCheckpoint('weights/weights.{epoch:02d}-{val_loss:.2f}.hdf5')]"
   ]
  },
  {
   "cell_type": "code",
   "execution_count": 17,
   "metadata": {},
   "outputs": [],
   "source": [
    "### Network\n",
    "net = dense_network(input_shape=(989, ),\n",
    "\t\t\t\t\ttarget_shape=(3))"
   ]
  },
  {
   "cell_type": "markdown",
   "metadata": {},
   "source": [
    "### Experiment"
   ]
  },
  {
   "cell_type": "code",
   "execution_count": 18,
   "metadata": {},
   "outputs": [
    {
     "name": "stdout",
     "output_type": "stream",
     "text": [
      "Model Summary:\n",
      "_________________________________________________________________\n",
      "Layer (type)                 Output Shape              Param #   \n",
      "=================================================================\n",
      "batch_normalization_3 (Batch (None, 989)               3956      \n",
      "_________________________________________________________________\n",
      "dense_4 (Dense)              (None, 256)               253440    \n",
      "_________________________________________________________________\n",
      "batch_normalization_4 (Batch (None, 256)               1024      \n",
      "_________________________________________________________________\n",
      "dense_5 (Dense)              (None, 64)                16448     \n",
      "_________________________________________________________________\n",
      "dense_6 (Dense)              (None, 3)                 195       \n",
      "_________________________________________________________________\n",
      "audio_feature_extractor (Act (None, 3)                 0         \n",
      "=================================================================\n",
      "Total params: 275,063\n",
      "Trainable params: 272,573\n",
      "Non-trainable params: 2,490\n",
      "_________________________________________________________________\n",
      "None\n"
     ]
    }
   ],
   "source": [
    "model = net.build_model()"
   ]
  },
  {
   "cell_type": "code",
   "execution_count": 21,
   "metadata": {},
   "outputs": [],
   "source": [
    "epochs = 100\n",
    "train_steps = 10\n",
    "val_steps = 3\n",
    "test_bs = 100\n",
    "loss = MAE\n",
    "metrics = ['MAE']\n",
    "\n",
    "## Optimizer hyperparameters\n",
    "learning_rate = 0.1\n",
    "decay_rate = learning_rate / epochs\n",
    "momentum = 0.8\n",
    "sgd = SGD(lr=learning_rate, momentum=momentum, decay=decay_rate, nesterov=False)\n",
    "optimizer = sgd"
   ]
  },
  {
   "cell_type": "code",
   "execution_count": null,
   "metadata": {
    "scrolled": true
   },
   "outputs": [
    {
     "name": "stdout",
     "output_type": "stream",
     "text": [
      "Epoch 1/100\n",
      "10/10 [==============================] - 0s - loss: 0.1588 - mean_absolute_error: 0.1588 - val_loss: 0.0945 - val_mean_absolute_error: 0.0945\n",
      "Epoch 2/100\n",
      "10/10 [==============================] - 0s - loss: 0.0926 - mean_absolute_error: 0.0926 - val_loss: 0.0874 - val_mean_absolute_error: 0.0874\n",
      "Epoch 3/100\n",
      "10/10 [==============================] - 0s - loss: 0.0955 - mean_absolute_error: 0.0955 - val_loss: 0.0878 - val_mean_absolute_error: 0.0878\n",
      "Epoch 4/100\n",
      "10/10 [==============================] - 0s - loss: 0.0977 - mean_absolute_error: 0.0977 - val_loss: 0.0887 - val_mean_absolute_error: 0.0887\n",
      "Epoch 5/100\n",
      "10/10 [==============================] - 0s - loss: 0.0933 - mean_absolute_error: 0.0933 - val_loss: 0.0786 - val_mean_absolute_error: 0.0786\n",
      "Epoch 6/100\n",
      "10/10 [==============================] - 0s - loss: 0.0976 - mean_absolute_error: 0.0976 - val_loss: 0.0771 - val_mean_absolute_error: 0.0771\n",
      "Epoch 7/100\n",
      "10/10 [==============================] - 0s - loss: 0.0967 - mean_absolute_error: 0.0967 - val_loss: 0.0918 - val_mean_absolute_error: 0.0918\n",
      "Epoch 8/100\n",
      "10/10 [==============================] - 0s - loss: 0.0974 - mean_absolute_error: 0.0974 - val_loss: 0.0885 - val_mean_absolute_error: 0.0885\n",
      "Epoch 9/100\n",
      "10/10 [==============================] - 0s - loss: 0.0969 - mean_absolute_error: 0.0969 - val_loss: 0.0840 - val_mean_absolute_error: 0.0840\n",
      "Epoch 10/100\n",
      "10/10 [==============================] - 0s - loss: 0.0963 - mean_absolute_error: 0.0963 - val_loss: 0.0816 - val_mean_absolute_error: 0.0816\n",
      "Epoch 11/100\n",
      "10/10 [==============================] - 0s - loss: 0.0955 - mean_absolute_error: 0.0955 - val_loss: 0.0853 - val_mean_absolute_error: 0.0853\n",
      "Epoch 12/100\n",
      "10/10 [==============================] - 0s - loss: 0.0987 - mean_absolute_error: 0.0987 - val_loss: 0.0801 - val_mean_absolute_error: 0.0801\n",
      "Epoch 13/100\n",
      "10/10 [==============================] - 0s - loss: 0.0976 - mean_absolute_error: 0.0976 - val_loss: 0.0745 - val_mean_absolute_error: 0.0745\n",
      "Epoch 14/100\n",
      "10/10 [==============================] - 0s - loss: 0.0971 - mean_absolute_error: 0.0971 - val_loss: 0.0821 - val_mean_absolute_error: 0.0821\n",
      "Epoch 15/100\n",
      "10/10 [==============================] - 0s - loss: 0.0954 - mean_absolute_error: 0.0954 - val_loss: 0.0791 - val_mean_absolute_error: 0.0791\n",
      "Epoch 16/100\n",
      "10/10 [==============================] - 0s - loss: 0.0937 - mean_absolute_error: 0.0937 - val_loss: 0.0770 - val_mean_absolute_error: 0.0770\n",
      "Epoch 17/100\n",
      "10/10 [==============================] - 0s - loss: 0.0961 - mean_absolute_error: 0.0961 - val_loss: 0.0880 - val_mean_absolute_error: 0.0880\n",
      "Epoch 18/100\n",
      "10/10 [==============================] - ETA: 0s - loss: 0.1006 - mean_absolute_error: 0.100 - 0s - loss: 0.0991 - mean_absolute_error: 0.0991 - val_loss: 0.0820 - val_mean_absolute_error: 0.0820\n",
      "Epoch 19/100\n",
      "10/10 [==============================] - 0s - loss: 0.0957 - mean_absolute_error: 0.0957 - val_loss: 0.0776 - val_mean_absolute_error: 0.0776\n",
      "Epoch 20/100\n",
      "10/10 [==============================] - 0s - loss: 0.0968 - mean_absolute_error: 0.0968 - val_loss: 0.0878 - val_mean_absolute_error: 0.0878\n",
      "Epoch 21/100\n",
      "10/10 [==============================] - 0s - loss: 0.0968 - mean_absolute_error: 0.0968 - val_loss: 0.0806 - val_mean_absolute_error: 0.0806\n",
      "Epoch 22/100\n",
      "10/10 [==============================] - 1s - loss: 0.0992 - mean_absolute_error: 0.0992 - val_loss: 0.0837 - val_mean_absolute_error: 0.0837\n",
      "Epoch 23/100\n",
      "10/10 [==============================] - 4s - loss: 0.1017 - mean_absolute_error: 0.1017 - val_loss: 0.0809 - val_mean_absolute_error: 0.0809\n",
      "Epoch 24/100\n",
      "10/10 [==============================] - 4s - loss: 0.0933 - mean_absolute_error: 0.0933 - val_loss: 0.0744 - val_mean_absolute_error: 0.0744\n",
      "Epoch 25/100\n",
      "10/10 [==============================] - 4s - loss: 0.0956 - mean_absolute_error: 0.0956 - val_loss: 0.0750 - val_mean_absolute_error: 0.0750\n",
      "Epoch 26/100\n",
      "10/10 [==============================] - 4s - loss: 0.0908 - mean_absolute_error: 0.0908 - val_loss: 0.0770 - val_mean_absolute_error: 0.0770\n",
      "Epoch 27/100\n",
      "10/10 [==============================] - 4s - loss: 0.0956 - mean_absolute_error: 0.0956 - val_loss: 0.0765 - val_mean_absolute_error: 0.0765\n",
      "Epoch 28/100\n",
      "10/10 [==============================] - 3s - loss: 0.1001 - mean_absolute_error: 0.1001 - val_loss: 0.0853 - val_mean_absolute_error: 0.0853\n",
      "Epoch 29/100\n",
      "10/10 [==============================] - 4s - loss: 0.0934 - mean_absolute_error: 0.0934 - val_loss: 0.0802 - val_mean_absolute_error: 0.0802\n",
      "Epoch 30/100\n",
      "10/10 [==============================] - 4s - loss: 0.0996 - mean_absolute_error: 0.0996 - val_loss: 0.0825 - val_mean_absolute_error: 0.0825\n",
      "Epoch 31/100\n",
      "10/10 [==============================] - 4s - loss: 0.0958 - mean_absolute_error: 0.0958 - val_loss: 0.0792 - val_mean_absolute_error: 0.0792\n",
      "Epoch 32/100\n",
      "10/10 [==============================] - 4s - loss: 0.0948 - mean_absolute_error: 0.0948 - val_loss: 0.0820 - val_mean_absolute_error: 0.0820\n",
      "Epoch 33/100\n",
      "10/10 [==============================] - 4s - loss: 0.0954 - mean_absolute_error: 0.0954 - val_loss: 0.0856 - val_mean_absolute_error: 0.0856\n",
      "Epoch 34/100\n",
      " 3/10 [========>.....................] - ETA: 2s - loss: 0.0985 - mean_absolute_error: 0.0985"
     ]
    }
   ],
   "source": [
    "model.compile(optimizer, loss, metrics)\n",
    "\n",
    "model.fit_generator(train_ds,\n",
    "                  train_steps,\n",
    "                  epochs=epochs,\n",
    "                  callbacks=callbacks,\n",
    "                  validation_data=val_ds,\n",
    "                  validation_steps=val_steps,\n",
    "                  )\n",
    "\n",
    "model.test_on_batch(test_ds.next(test_bs))"
   ]
  },
  {
   "cell_type": "code",
   "execution_count": null,
   "metadata": {},
   "outputs": [],
   "source": []
  }
 ],
 "metadata": {
  "kernelspec": {
   "display_name": "Aut_Venv",
   "language": "python",
   "name": "aut_venv"
  },
  "language_info": {
   "codemirror_mode": {
    "name": "ipython",
    "version": 2
   },
   "file_extension": ".py",
   "mimetype": "text/x-python",
   "name": "python",
   "nbconvert_exporter": "python",
   "pygments_lexer": "ipython2",
   "version": "2.7.12"
  }
 },
 "nbformat": 4,
 "nbformat_minor": 1
}
